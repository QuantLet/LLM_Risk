{
 "cells": [
  {
   "cell_type": "code",
   "execution_count": 54,
   "id": "694eaa29-c0ff-4968-9931-e678fdc0c7af",
   "metadata": {},
   "outputs": [],
   "source": [
    "import re\n",
    "\n",
    "import pandas as pd\n",
    "\n",
    "from pathlib import Path"
   ]
  },
  {
   "cell_type": "code",
   "execution_count": 104,
   "id": "adfe9805-a2b4-4f24-8e12-e25fd02a26b6",
   "metadata": {},
   "outputs": [],
   "source": [
    "runtime_root_dir = Path(\"runtimes/\")\n",
    "results_dir = Path(\"results/\")"
   ]
  },
  {
   "cell_type": "code",
   "execution_count": 29,
   "id": "bf6f1c9c-20c4-4d95-972a-ee665df94322",
   "metadata": {},
   "outputs": [],
   "source": [
    "EWMA_runtimes = pd.read_csv(runtime_root_dir / \"ewma_runtimes.csv\", index_col=[0, 1]).reset_index(names=[\"Method\", \"Computation\"])\n",
    "EWMA_runtimes = (\n",
    "    EWMA_runtimes.melt(var_name=\"Window\", id_vars=[\"Method\", \"Computation\"])\n",
    "    .set_index([\"Method\", \"Computation\", \"Window\"]).unstack(\"Computation\")\n",
    ")\n",
    "EWMA_runtimes.index = (\n",
    "    \"EWMA.\" + EWMA_runtimes.index.get_level_values(0).str.replace(\"Norm\", \"N\").str.replace(\"DCS\", \"DCS.N\").str.replace(\"SD\", \"DCS.T\") \n",
    "    + \".\" + EWMA_runtimes.index.get_level_values(1).astype(str)\n",
    ")"
   ]
  },
  {
   "cell_type": "code",
   "execution_count": 31,
   "id": "e4e86d43-de52-4e76-bbb9-b03d55df449e",
   "metadata": {},
   "outputs": [],
   "source": [
    "GARCH_runtimes = pd.read_csv(runtime_root_dir / \"garch_runtimes.csv\", index_col=[0, 1]).reset_index(names=[\"Method\", \"Computation\"])\n",
    "GARCH_runtimes = (\n",
    "    GARCH_runtimes.melt(var_name=\"Window\", id_vars=[\"Method\", \"Computation\"])\n",
    "    .set_index([\"Method\", \"Computation\", \"Window\"]).unstack(\"Computation\")\n",
    ")\n",
    "GARCH_runtimes.index = (\n",
    "    \"GARCH.\" + GARCH_runtimes.index.get_level_values(0).str.replace(\"Norm\", \"N\").str.replace(\"DCS\", \"DCS.N\").str.replace(\"SD\", \"DCS.T\") \n",
    "    + \".\" + GARCH_runtimes.index.get_level_values(1).astype(str)\n",
    ")"
   ]
  },
  {
   "cell_type": "code",
   "execution_count": 50,
   "id": "0dec8216-6ee9-4438-99fc-ee58f955b91b",
   "metadata": {},
   "outputs": [],
   "source": [
    "GARCH_LPA_runtimes_dict = {}\n",
    "\n",
    "for garch_lpa_runtime_file in (runtime_root_dir / \"garch_lpa\").glob(\"*.csv\"):\n",
    "    asset_name = garch_lpa_runtime_file.stem.split(\"_\")[0]\n",
    "    garch_lpa_asset_runtimes = pd.read_csv(garch_lpa_runtime_file)\n",
    "    GARCH_LPA_runtimes_dict[asset_name] = garch_lpa_asset_runtimes.agg([\"mean\", \"std\"]).iloc[:, 0]\n",
    "GARCH_LPA_runtimes = pd.DataFrame(GARCH_LPA_runtimes_dict)"
   ]
  },
  {
   "cell_type": "code",
   "execution_count": 100,
   "id": "c52c3068-2099-45dd-b245-8c0582ebcb83",
   "metadata": {},
   "outputs": [],
   "source": [
    "llm_runtimes_dict = {}\n",
    "\n",
    "for llm_runtime_file in (runtime_root_dir / \"llm\").glob(\"*.csv\"):\n",
    "    llm_model_name_regex = re.compile(r\".*?_[a-zA-Z0-9]+_LLMTime_execution_times_(gpt[_\\d\\w.]+)_w(\\d+)_temp0\\.\\d\")\n",
    "    llm_model_name_match = llm_model_name_regex.match(llm_runtime_file.stem)\n",
    "    llm_model_name = llm_model_name_match.group(1)\n",
    "    llm_window_size = int(llm_model_name_match.group(2))\n",
    "    llm_runtime_data = pd.read_csv(llm_runtime_file, parse_dates=[\"Date\"], index_col=[0])\n",
    "    llm_runtimes_dict[(llm_model_name, llm_window_size)] = llm_runtime_data.agg([\"mean\", \"std\"], ).iloc[:, 0]\n",
    "\n",
    "llm_runtimes = pd.DataFrame(llm_runtimes_dict).transpose()\n",
    "llm_runtimes.index = (\n",
    "    llm_runtimes.index.get_level_values(0).str.replace(\"gpt_3.5_turbo_instruct\", \"GPT-3.5\").str.replace(\"gpt_4_turbo\", \"GPT-4\").str.replace(\"gpt_4o\", \"GPT-4o\")\n",
    "    + \".\" + llm_runtimes.index.get_level_values(1).astype(str)\n",
    ")\n",
    "llm_runtimes.sort_index(inplace=True)"
   ]
  },
  {
   "cell_type": "code",
   "execution_count": 102,
   "id": "c843ba6e-9138-42ab-ad59-435045a27eb6",
   "metadata": {},
   "outputs": [],
   "source": [
    "runtime_results = pd.concat([\n",
    "    llm_runtimes, GARCH_LPA_runtimes.mean(axis=1).to_frame(name=\"GARCH.LPA\").T, \n",
    "    EWMA_runtimes.droplevel(0, axis=1), GARCH_runtimes.droplevel(0, axis=1)\n",
    "], axis=0)"
   ]
  },
  {
   "cell_type": "code",
   "execution_count": 105,
   "id": "975de60e-4b20-4018-88a5-bd21771d9038",
   "metadata": {},
   "outputs": [],
   "source": [
    "runtime_results.to_latex(results_dir / \"runtimes.tex\", float_format=\"%.2f\")"
   ]
  }
 ],
 "metadata": {
  "kernelspec": {
   "display_name": "Python [conda env:llmtime]",
   "language": "python",
   "name": "conda-env-llmtime-py"
  },
  "language_info": {
   "codemirror_mode": {
    "name": "ipython",
    "version": 3
   },
   "file_extension": ".py",
   "mimetype": "text/x-python",
   "name": "python",
   "nbconvert_exporter": "python",
   "pygments_lexer": "ipython3",
   "version": "3.9.19"
  }
 },
 "nbformat": 4,
 "nbformat_minor": 5
}
