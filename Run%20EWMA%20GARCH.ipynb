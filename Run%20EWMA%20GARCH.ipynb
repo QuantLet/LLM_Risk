{
 "cells": [
  {
   "cell_type": "code",
   "execution_count": 1,
   "metadata": {},
   "outputs": [],
   "source": [
    "import re\n",
    "import pickle\n",
    "import numpy as np\n",
    "import pandas as pd\n",
    "import datetime as dt\n",
    "\n",
    "from tqdm import tqdm\n",
    "from pathlib import Path\n",
    "from joblib import Parallel, delayed\n",
    "\n",
    "from ewma_var_calculator import EWMAVaRCalculator\n",
    "from garch_var_calculator import GARCHVaRCalculator"
   ]
  },
  {
   "cell_type": "code",
   "execution_count": 2,
   "metadata": {},
   "outputs": [],
   "source": [
    "simulations_directory = Path(\"llm_simulations\")\n",
    "data_directory = Path(\"datasets\")\n",
    "\n",
    "def read_original_asset_returns(asset: str):\n",
    "    normalized_asset_name = \"\".join([f\"[{char.lower()}{char.upper()}]\" for char in asset])\n",
    "    original_prices_file = list(data_directory.glob(f\"{normalized_asset_name}.xlsx\"))[0]\n",
    "    original_prices = pd.read_excel(original_prices_file).set_index(\"Date\")\n",
    "    price_column = \"Close\" if asset != \"stoxx\" else \"STOXX\"\n",
    "    log_returns = np.log(original_prices[price_column].pct_change() + 1)\n",
    "    log_returns.fillna(log_returns.iloc[1], inplace=True)\n",
    "    return log_returns\n",
    "\n",
    "llmtime_assets = set()\n",
    "asset_regex = re.compile(r\".*?_([a-zA-Z0-9]+)_LLMTime(?:_| )GPT-3\\.{1,2}5.*\")\n",
    "for simulations_file in simulations_directory.glob(\"*.xlsx\"):\n",
    "    llmtime_assets.add(asset_regex.match(simulations_file.stem).group(1))\n",
    "\n",
    "llmtime_assets = list(llmtime_assets)"
   ]
  },
  {
   "cell_type": "code",
   "execution_count": 3,
   "metadata": {},
   "outputs": [],
   "source": [
    "log_returns_dict = {asset: read_original_asset_returns(asset) for asset in llmtime_assets}"
   ]
  },
  {
   "cell_type": "markdown",
   "metadata": {},
   "source": [
    "### EWMA"
   ]
  },
  {
   "cell_type": "code",
   "execution_count": 4,
   "metadata": {},
   "outputs": [],
   "source": [
    "lambda_ = 0.95\n",
    "alpha = [1 - 0.975, 1 - 0.99]\n",
    "nu = 5 "
   ]
  },
  {
   "cell_type": "code",
   "execution_count": 5,
   "metadata": {},
   "outputs": [
    {
     "name": "stderr",
     "output_type": "stream",
     "text": [
      "Running EWMA for all assets...: 100%|██████████| 9/9 [00:10<00:00,  1.15s/it]\n"
     ]
    }
   ],
   "source": [
    "ewma_VaR_results = {}\n",
    "\n",
    "for asset in tqdm(llmtime_assets, desc=\"Running EWMA for all assets...\"):\n",
    "    ewma_var_calculator = EWMAVaRCalculator(log_returns_dict[asset], lambda_, alpha, 120, nu)\n",
    "    ewma_var = ewma_var_calculator.EWMA_VaR()\n",
    "    dcs_ewma_var = ewma_var_calculator.DCS_EWMA_VaR()\n",
    "    sd_ewma_var = ewma_var_calculator.SD_EWMA_VaR()\n",
    "    ewma_VaR_results[asset] = {\"Norm\": ewma_var, \"DCS\": dcs_ewma_var, \"SD\": sd_ewma_var}"
   ]
  },
  {
   "cell_type": "code",
   "execution_count": 6,
   "metadata": {},
   "outputs": [],
   "source": [
    "with Path(\"EWMA/EWMA_Simulations_120_window.pkl\").open(\"wb\") as f:\n",
    "    pickle.dump(ewma_VaR_results, f)"
   ]
  },
  {
   "cell_type": "code",
   "execution_count": 7,
   "metadata": {},
   "outputs": [
    {
     "name": "stderr",
     "output_type": "stream",
     "text": [
      "Running EWMA for all assets...: 100%|██████████| 9/9 [00:08<00:00,  1.08it/s]\n"
     ]
    }
   ],
   "source": [
    "ewma_VaR_results = {}\n",
    "\n",
    "for asset in tqdm(llmtime_assets, desc=\"Running EWMA for all assets...\"):\n",
    "    ewma_var_calculator = EWMAVaRCalculator(log_returns_dict[asset], lambda_, alpha, 80, nu)\n",
    "    ewma_var = ewma_var_calculator.EWMA_VaR()\n",
    "    dcs_ewma_var = ewma_var_calculator.DCS_EWMA_VaR()\n",
    "    sd_ewma_var = ewma_var_calculator.SD_EWMA_VaR()\n",
    "    ewma_VaR_results[asset] = {\"Norm\": ewma_var, \"DCS\": dcs_ewma_var, \"SD\": sd_ewma_var}"
   ]
  },
  {
   "cell_type": "code",
   "execution_count": 8,
   "metadata": {},
   "outputs": [],
   "source": [
    "with Path(\"EWMA/EWMA_Simulations_80_window.pkl\").open(\"wb\") as f:\n",
    "    pickle.dump(ewma_VaR_results, f)"
   ]
  },
  {
   "cell_type": "markdown",
   "metadata": {},
   "source": [
    "### GARCH"
   ]
  },
  {
   "cell_type": "code",
   "execution_count": 4,
   "metadata": {},
   "outputs": [],
   "source": [
    "def run_garch_model(asset, alpha, window, nu):\n",
    "    var_model = GARCHVaRCalculator(log_returns_dict[asset], alpha, window, nu)\n",
    "    garch_var = var_model.GARCH_VaR()\n",
    "    garch_t_var = var_model.GARCH_t_VaR()\n",
    "    gas_garch_var = var_model.GAS_GARCH_VaR()\n",
    "    gas_garch_t_var = var_model.GAS_GARCH_t_VaR()\n",
    "    \n",
    "    return {\"Norm\": garch_var, \"T\": garch_t_var, \"GAS\": gas_garch_var, \"GAS_T\": gas_garch_t_var} "
   ]
  },
  {
   "cell_type": "code",
   "execution_count": 5,
   "metadata": {},
   "outputs": [],
   "source": [
    "alpha = [1 - 0.975, 1 - 0.99]\n",
    "nu = 5"
   ]
  },
  {
   "cell_type": "code",
   "execution_count": 6,
   "metadata": {},
   "outputs": [
    {
     "name": "stdout",
     "output_type": "stream",
     "text": [
      "[Parallel(n_jobs=18)]: Using backend LokyBackend with 18 concurrent workers.\n",
      "[Parallel(n_jobs=18)]: Done   1 tasks      | elapsed:  5.7min\n",
      "[Parallel(n_jobs=18)]: Done   2 out of  18 | elapsed:  5.7min remaining: 45.9min\n",
      "[Parallel(n_jobs=18)]: Done   3 out of  18 | elapsed:  5.8min remaining: 28.8min\n",
      "[Parallel(n_jobs=18)]: Done   4 out of  18 | elapsed:  5.8min remaining: 20.1min\n",
      "[Parallel(n_jobs=18)]: Done   5 out of  18 | elapsed:  5.8min remaining: 15.2min\n",
      "[Parallel(n_jobs=18)]: Done   6 out of  18 | elapsed:  5.9min remaining: 11.7min\n",
      "[Parallel(n_jobs=18)]: Done   7 out of  18 | elapsed:  5.9min remaining:  9.3min\n",
      "[Parallel(n_jobs=18)]: Done   8 out of  18 | elapsed:  6.2min remaining:  7.7min\n",
      "[Parallel(n_jobs=18)]: Done   9 out of  18 | elapsed:  8.0min remaining:  8.0min\n",
      "[Parallel(n_jobs=18)]: Done  10 out of  18 | elapsed:  8.0min remaining:  6.4min\n",
      "[Parallel(n_jobs=18)]: Done  11 out of  18 | elapsed:  8.1min remaining:  5.1min\n",
      "[Parallel(n_jobs=18)]: Done  12 out of  18 | elapsed:  8.1min remaining:  4.1min\n",
      "[Parallel(n_jobs=18)]: Done  13 out of  18 | elapsed:  8.4min remaining:  3.2min\n",
      "[Parallel(n_jobs=18)]: Done  14 out of  18 | elapsed:  8.5min remaining:  2.4min\n",
      "[Parallel(n_jobs=18)]: Done  15 out of  18 | elapsed:  8.5min remaining:  1.7min\n",
      "[Parallel(n_jobs=18)]: Done  16 out of  18 | elapsed:  8.8min remaining:  1.1min\n",
      "[Parallel(n_jobs=18)]: Done  18 out of  18 | elapsed: 40.3min finished\n"
     ]
    }
   ],
   "source": [
    "garch_parallel_results = Parallel(prefer=\"processes\", n_jobs=2 * len(llmtime_assets), verbose=100)(\n",
    "    delayed(run_garch_model)(asset, alpha, window, nu)\n",
    "    for window in [120, 250]\n",
    "    for asset in llmtime_assets\n",
    ")"
   ]
  },
  {
   "cell_type": "code",
   "execution_count": 7,
   "metadata": {},
   "outputs": [],
   "source": [
    "garch_window_120_results = {\n",
    "    asset: garch_parallel_results[i]\n",
    "    for i, asset in enumerate(llmtime_assets)\n",
    "}\n",
    "\n",
    "garch_window_250_results = {\n",
    "    asset: garch_parallel_results[len(llmtime_assets) + i]\n",
    "    for i, asset in enumerate(llmtime_assets)\n",
    "}"
   ]
  },
  {
   "cell_type": "code",
   "execution_count": 8,
   "metadata": {},
   "outputs": [],
   "source": [
    "with Path(\"GARCH/GARCH_Simulations_final_120_window.pkl\").open(\"wb\") as f:\n",
    "    pickle.dump(garch_window_120_results, f)\n",
    "\n",
    "with Path(\"GARCH/GARCH_Simulations_final_250_window.pkl\").open(\"wb\") as f:\n",
    "    pickle.dump(garch_window_250_results, f)"
   ]
  }
 ],
 "metadata": {
  "kernelspec": {
   "display_name": "Python [conda env:scipy-env]",
   "language": "python",
   "name": "conda-env-scipy-env-py"
  },
  "language_info": {
   "codemirror_mode": {
    "name": "ipython",
    "version": 3
   },
   "file_extension": ".py",
   "mimetype": "text/x-python",
   "name": "python",
   "nbconvert_exporter": "python",
   "pygments_lexer": "ipython3",
   "version": "3.11.9"
  }
 },
 "nbformat": 4,
 "nbformat_minor": 4
}
